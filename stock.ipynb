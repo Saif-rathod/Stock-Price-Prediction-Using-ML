{
 "cells": [
  {
   "cell_type": "code",
   "execution_count": 9,
   "metadata": {},
   "outputs": [],
   "source": [
    "import pandas as pd\n",
    "import numpy as np\n",
    "import matplotlib.pyplot as plt\n",
    "import chart_studio.plotly as py\n",
    "import plotly.graph_objs as go\n",
    "from plotly.offline import plot\n",
    "from sklearn.model_selection import train_test_split, GridSearchCV\n",
    "from sklearn.preprocessing import StandardScaler\n",
    "from sklearn.metrics import mean_squared_error as mse, r2_score\n",
    "from sklearn.linear_model import LinearRegression, Ridge, Lasso"
   ]
  },
  {
   "cell_type": "code",
   "execution_count": 25,
   "metadata": {},
   "outputs": [
    {
     "name": "stdout",
     "output_type": "stream",
     "text": [
      "Dataframe contains stock prices between 2010-06-29 00:00:00 and 2019-03-15 00:00:00\n",
      "Total days = 3181 days\n"
     ]
    }
   ],
   "source": [
    "Tesla_data = pd.read_csv('tesla.csv', dtype={'date_column': 'object'})\n",
    "Tesla_data['Date'] = pd.to_datetime(Tesla_data['Date'],format='%d-%m-%Y')\n",
    "Tesla_data.set_index('Date', inplace=True)\n",
    "Tesla_data = Tesla_data.ffill()  \n",
    "\n",
    "print(f'Dataframe contains stock prices between {Tesla_data.index.min()} and {Tesla_data.index.max()}')\n",
    "print(f'Total days = {(Tesla_data.index.max() - Tesla_data.index.min()).days} days')"
   ]
  },
  {
   "cell_type": "code",
   "execution_count": 11,
   "metadata": {},
   "outputs": [
    {
     "data": {
      "image/png": "[encoded data removed]",
      "text/plain": [
       "<Figure size 640x480 with 1 Axes>"
      ]
     },
     "metadata": {},
     "output_type": "display_data"
    }
   ],
   "source": [
    "Tesla_data['Month'] = Tesla_data.index.month #feature scaling\n",
    "Tesla_data['Day'] = Tesla_data.index.day\n",
    "Tesla_data['Year'] = Tesla_data.index.year\n",
    "\n",
    "\n",
    "Tesla_data[['Open', 'High', 'Low', 'Close', 'Adj Close']].plot(kind='box') #visualize data\n",
    "plt.show()"
   ]
  },
  {
   "cell_type": "code",
   "execution_count": 12,
   "metadata": {},
   "outputs": [
    {
     "data": {
      "text/plain": [
       "'temp-plot.html'"
      ]
     },
     "execution_count": 12,
     "metadata": {},
     "output_type": "execute_result"
    }
   ],
   "source": [
    "\n",
    "layout = go.Layout(\n",
    "    title='Stock Prices of Tesla',\n",
    "    xaxis=dict(title='Date', titlefont=dict(family='Courier New, monospace', size=18, color='#7f7f7f')),    \n",
    "    yaxis=dict(title='Price', titlefont=dict(family='Courier New, monospace', size=18, color='#7f7f7f'))\n",
    ")\n",
    "Tesla_data_data = [{'x': Tesla_data.index, 'y': Tesla_data['Close']}]\n",
    "plot1 = go.Figure(data=Tesla_data_data, layout=layout)\n",
    "plot(plot1)"
   ]
  },
  {
   "cell_type": "code",
   "execution_count": 13,
   "metadata": {},
   "outputs": [],
   "source": [
    "X = Tesla_data[['Month', 'Day', 'Year']].values\n",
    "Y = Tesla_data['Close'].values\n",
    "X_train, X_test, Y_train, Y_test = train_test_split(X, Y, test_size=0.3, random_state=101)\n",
    "\n",
    "scaler = StandardScaler().fit(X_train)\n",
    "X_train = scaler.transform(X_train)\n",
    "X_test = scaler.transform(X_test)"
   ]
  },
  {
   "cell_type": "code",
   "execution_count": 14,
   "metadata": {},
   "outputs": [],
   "source": [
    "models = {\n",
    "    'Linear Regression': LinearRegression(),\n",
    "    'Ridge Regression': Ridge(),\n",
    "    'Lasso Regression': Lasso()\n",
    "}"
   ]
  },
  {
   "cell_type": "code",
   "execution_count": 15,
   "metadata": {},
   "outputs": [
    {
     "name": "stdout",
     "output_type": "stream",
     "text": [
      "Linear Regression:\n",
      "Train R2: 0.8676057339765406\n",
      "Test R2: 0.8593929969382175\n",
      "Train MSE: 1798.0437098359914\n",
      "Test MSE: 1802.419734490161\n",
      "\n",
      "Ridge Regression:\n",
      "Train R2: 0.8676053263580337\n",
      "Test R2: 0.8594173676722171\n",
      "Train MSE: 1798.0492456942625\n",
      "Test MSE: 1802.1073297667233\n",
      "\n",
      "Lasso Regression:\n",
      "Train R2: 0.8673581141017204\n",
      "Test R2: 0.8607299674514016\n",
      "Train MSE: 1801.4066300871748\n",
      "Test MSE: 1785.2813133239292\n",
      "\n"
     ]
    }
   ],
   "source": [
    "for name, model in models.items():\n",
    "    model.fit(X_train, Y_train)\n",
    "    train_pred = model.predict(X_train)\n",
    "    test_pred = model.predict(X_test)\n",
    "    \n",
    "    trace0 = go.Scatter(x=X_train[:, 1], y=Y_train, mode='markers', name='Actual')\n",
    "    trace1 = go.Scatter(x=X_train[:, 1], y=train_pred, mode='lines', name='Predicted')\n",
    "    plot2 = go.Figure(data=[trace0, trace1], layout=layout)\n",
    "    plot(plot2)\n",
    "    \n",
    "    print(f'{name}:')\n",
    "    print(f'Train R2: {r2_score(Y_train, train_pred)}')\n",
    "    print(f'Test R2: {r2_score(Y_test, test_pred)}')\n",
    "    print(f'Train MSE: {mse(Y_train, train_pred)}')\n",
    "    print(f'Test MSE: {mse(Y_test, test_pred)}')\n",
    "    print()"
   ]
  },
  {
   "cell_type": "code",
   "execution_count": 16,
   "metadata": {},
   "outputs": [
    {
     "name": "stdout",
     "output_type": "stream",
     "text": [
      "Best Ridge Model: Ridge(alpha=1)\n",
      "Tuned Ridge Train R2: 0.8676053263580337\n",
      "Tuned Ridge Test R2: 0.8594173676722171\n"
     ]
    }
   ],
   "source": [
    "param_grid = {'alpha': [0.01, 0.1, 1, 10, 100]}\n",
    "grid_search = GridSearchCV(Ridge(), param_grid, cv=5)\n",
    "grid_search.fit(X_train, Y_train)\n",
    "\n",
    "best_model = grid_search.best_estimator_\n",
    "print(f'Best Ridge Model: {best_model}')\n",
    "train_pred = best_model.predict(X_train)\n",
    "test_pred = best_model.predict(X_test)\n",
    "print(f'Tuned Ridge Train R2: {r2_score(Y_train, train_pred)}')\n",
    "print(f'Tuned Ridge Test R2: {r2_score(Y_test, test_pred)}')"
   ]
  }
 ],
 "metadata": {
  "kernelspec": {
   "display_name": "Python 3 (ipykernel)",
   "language": "python",
   "name": "python3"
  },
  "language_info": {
   "codemirror_mode": {
    "name": "ipython",
    "version": 3
   },
   "file_extension": ".py",
   "mimetype": "text/x-python",
   "name": "python",
   "nbconvert_exporter": "python",
   "pygments_lexer": "ipython3",
   "version": "3.11.8"
  }
 },
 "nbformat": 4,
 "nbformat_minor": 4
}
